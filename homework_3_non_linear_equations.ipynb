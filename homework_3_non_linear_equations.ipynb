{
 "cells": [
  {
   "cell_type": "code",
   "execution_count": 483,
   "metadata": {},
   "outputs": [],
   "source": [
    "import numpy as np\n",
    "from numpy import linalg as la\n",
    "import scipy"
   ]
  },
  {
   "cell_type": "markdown",
   "metadata": {},
   "source": [
    "## IV.12.4 ##\n",
    "з) 2lgx - x/2 + 1 = 0"
   ]
  },
  {
   "cell_type": "code",
   "execution_count": 484,
   "metadata": {},
   "outputs": [],
   "source": [
    "eps = 1e-6\n",
    "\n",
    "def f(x):\n",
    "    assert(x > 0)\n",
    "    return (2 * np.log10(x)) - (x / 2) + 1\n",
    "def deriv_f(x):\n",
    "    assert(x > 0)\n",
    "    return (- 1 / 2) + (2 / (np.log(10) * x)) \n",
    "def phi(x):\n",
    "    assert(x > 0)\n",
    "    return x - (f(x)/deriv_f(x))"
   ]
  },
  {
   "cell_type": "markdown",
   "metadata": {},
   "source": [
    "Производная обнуляется всего 1 раз в точке x_0 = 4/ln(10).\n",
    "\n",
    "f`(x) > 0 при x < x_0;\n",
    "\n",
    "f`(x) < 0 при x > x_0;\n",
    "\n",
    "f(x_0) > 0\n",
    "\n",
    "Тогда это значит, что уравнение имеет 2 корня:\n",
    "\n",
    "1) На интервале (0; x_0).\n",
    "2) На интервале (x_0; 10).\n",
    "\n",
    "Приводим уравнение к виду x = φ(x),\n",
    "\n",
    "где φ(x) = x - λ(x)f(x)."
   ]
  },
  {
   "cell_type": "code",
   "execution_count": 485,
   "metadata": {},
   "outputs": [
    {
     "name": "stdout",
     "output_type": "stream",
     "text": [
      "Первый корень:  0.39754494540594854\n",
      "Второй корень:  4.681563776434503\n"
     ]
    }
   ],
   "source": [
    "def get_root(x_f):\n",
    "    while True:\n",
    "        x_n = phi(x_f)\n",
    "        if abs(x_f - x_n) < eps:\n",
    "            return x_f\n",
    "        x_f = x_n\n",
    "\n",
    "start_x = 0.8\n",
    "print(\"Первый корень: \", get_root(start_x))\n",
    "\n",
    "start_x = 3\n",
    "print(\"Второй корень: \", get_root(start_x))"
   ]
  },
  {
   "cell_type": "markdown",
   "metadata": {},
   "source": [
    "## IV.12.7 ##\n",
    "Система 'а':\n",
    "\n",
    "2x^2 - xy - 5x + 1 = 0\n",
    "\n",
    "x + 3lgx - y^2     = 0"
   ]
  },
  {
   "cell_type": "markdown",
   "metadata": {},
   "source": [
    "##### Добавим необходимые функции для вычисления корней: #####"
   ]
  },
  {
   "cell_type": "code",
   "execution_count": 486,
   "metadata": {},
   "outputs": [],
   "source": [
    "def f_1(x, y):\n",
    "    return float(2.0 * (x ** 2) - x * y - 5.0 * x + 1.0)\n",
    "\n",
    "def f_2(x, y):\n",
    "    assert(x > 0)\n",
    "    return float(x + 3.0 * np.log10(x) - y ** 2)\n",
    "\n",
    "def get_F(x, y):\n",
    "    return np.array([[f_1(x, y)], [f_2(x, y)]])\n",
    "\n",
    "def f_1x(x, y):\n",
    "    return float(4.0 * x - y - 5.0)\n",
    "\n",
    "def f_1y(x, y):\n",
    "    return float(-x)\n",
    "\n",
    "def f_2x(x, y):\n",
    "    return float(1.0 + (3.0 / (np.log(10) * x)))\n",
    "\n",
    "def f_2y(x, y):\n",
    "    return float(-2.0 * y)\n",
    "\n",
    "def get_jack(x, y):\n",
    "    return np.array([[f_1x(x, y), f_1y(x, y)], [f_2x(x, y), f_2y(x, y)]])\n",
    "\n",
    "def get_inv_jack(x, y):\n",
    "    return la.inv(get_jack(x, y))\n",
    "\n",
    "def get_ans(x_n):\n",
    "    count = 0\n",
    "    while True:\n",
    "        count += 1\n",
    "        x_n2 = x_n - np.matmul(get_inv_jack(x_n[0], x_n[1]), get_F(x_n[0], x_n[1]))\n",
    "        if abs(x_n2 - x_n).all() < 1e-6:\n",
    "            return x_n2, count\n",
    "        x_n = x_n2"
   ]
  },
  {
   "cell_type": "markdown",
   "metadata": {},
   "source": [
    "##### Графическое представление системы: #####\n",
    "![Система уравнений](pics/system1.png)"
   ]
  },
  {
   "cell_type": "markdown",
   "metadata": {},
   "source": [
    "Найдём корни:"
   ]
  },
  {
   "cell_type": "code",
   "execution_count": 487,
   "metadata": {},
   "outputs": [
    {
     "name": "stdout",
     "output_type": "stream",
     "text": [
      "Первый корень:\n",
      "x =  1.4588902301521778 \n",
      "y =  -1.396767009181618\n",
      "Искомая точность достигнута за:  7 итераций\n",
      "\n",
      "\n",
      "Второй корень:\n",
      "x =  3.4874427876429532 \n",
      "y =  2.261628630553594\n",
      "Искомая точность достигнута за:  6 итераций\n"
     ]
    }
   ],
   "source": [
    "x_n = np.array([[1.0], [-1.5]])   # взяли начальное значение x из области локализации\n",
    "ans, iter = get_ans(x_n)\n",
    "print(\"Первый корень:\\nx = \", float(ans[0]), \"\\ny = \", float(ans[1]))\n",
    "print(\"Искомая точность достигнута за: \", iter, \"итераций\")\n",
    "\n",
    "print(\"\\n\")\n",
    "\n",
    "x_n = np.array([[3.0], [2.0]])   # взяли начальное значение x из области локализации\n",
    "ans, iter = get_ans(x_n)\n",
    "print(\"Второй корень:\\nx = \", float(ans[0]), \"\\ny = \", float(ans[1]))\n",
    "print(\"Искомая точность достигнута за: \", iter, \"итераций\")"
   ]
  }
 ],
 "metadata": {
  "kernelspec": {
   "display_name": "Python 3.7.9 64-bit",
   "language": "python",
   "name": "python3"
  },
  "language_info": {
   "codemirror_mode": {
    "name": "ipython",
    "version": 3
   },
   "file_extension": ".py",
   "mimetype": "text/x-python",
   "name": "python",
   "nbconvert_exporter": "python",
   "pygments_lexer": "ipython3",
   "version": "3.7.9"
  },
  "orig_nbformat": 4,
  "vscode": {
   "interpreter": {
    "hash": "8fa13260b2ad5da8a92d4362f230c03eee7b3dfd5b47a73cfd4853277a201fcb"
   }
  }
 },
 "nbformat": 4,
 "nbformat_minor": 2
}
