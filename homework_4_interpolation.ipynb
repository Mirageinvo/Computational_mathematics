{
 "cells": [
  {
   "cell_type": "markdown",
   "metadata": {},
   "source": [
    "#### №VI.9.32 ####"
   ]
  },
  {
   "cell_type": "markdown",
   "metadata": {},
   "source": [
    "| Год          | Население      |\n",
    "| ------------ | -------------- |\n",
    "|     1910     |    92 228 496  |\n",
    "|     1920     |   106 021 537  |\n",
    "|     1930     |   123 202 624  |\n",
    "|     1940     |   132 164 569  |\n",
    "|     1950     |   151 325 798  |\n",
    "|     1960     |   179 323 175  |\n",
    "|     1970     |   203 211 926  |\n",
    "|     1980     |   226 545 805  |\n",
    "|     1990     |   248 709 873  |\n",
    "|     2000     |   281 421 906  |"
   ]
  },
  {
   "cell_type": "code",
   "execution_count": 73,
   "metadata": {},
   "outputs": [],
   "source": [
    "import numpy as np\n",
    "import scipy\n",
    "import bisect\n",
    "\n",
    "num_of_people = np.array([92228496, 106021537, 123202624, 132164569, 151325798, 179323175, 203211926, 226545805, 248709873, 281421906])\n",
    "year = np.array([1910, 1920, 1930, 1940, 1950, 1960, 1970, 1980, 1990, 2000])"
   ]
  },
  {
   "cell_type": "markdown",
   "metadata": {},
   "source": [
    "Требуется вычислить экстраполированное значение численности населения в 2010 году и сравнить его с истинным значением, равным 308 745 538."
   ]
  },
  {
   "cell_type": "markdown",
   "metadata": {},
   "source": [
    "a) Построим интерполянт в форме Ньютона.\n",
    "Полином Ньютона: $$ N(x) = b_0 + b_{1}(x - x_0) + b_{2}(x - x_0)(x - x_1) + ... + b_n(x-x_0)(x-x_1)...(x-x_{n - 1}) $$"
   ]
  },
  {
   "cell_type": "code",
   "execution_count": 74,
   "metadata": {},
   "outputs": [],
   "source": [
    "def b_coef_finder(year, num_of_people):\n",
    "    size = len(year)\n",
    "    sp_tbl = np.zeros([size, size])\n",
    "    for i in range (0, size):\n",
    "        sp_tbl[i, 0] = num_of_people[i]\n",
    "    for j in range (1, size):\n",
    "        for i in range (1, size):\n",
    "            sp_tbl[i, j] = (sp_tbl[i, j - 1] - sp_tbl[i - 1, j - 1]) / (year[i] - year[i - j])\n",
    "    res = np.zeros([size])\n",
    "    for i in range(0, size):\n",
    "        res[i] = sp_tbl[i, i]\n",
    "    return res\n",
    "\n",
    "def N_polynomial(year, num_of_people, x):\n",
    "    sp_tbl = b_coef_finder(year, num_of_people)\n",
    "    size = len(sp_tbl)\n",
    "    temp = 1\n",
    "    res = sp_tbl[0]\n",
    "    for i in range (size - 1):\n",
    "        temp = temp * (x - year[i])\n",
    "        res = res + sp_tbl[i + 1] * temp\n",
    "    return res"
   ]
  },
  {
   "cell_type": "markdown",
   "metadata": {},
   "source": [
    "Для 2010 года:"
   ]
  },
  {
   "cell_type": "code",
   "execution_count": 75,
   "metadata": {},
   "outputs": [
    {
     "name": "stdout",
     "output_type": "stream",
     "text": [
      "Истинное значение: 308745538\n",
      "Полученное значение: 827906509\n"
     ]
    }
   ],
   "source": [
    "real_result = 308745538\n",
    "interpol_result = N_polynomial(year, num_of_people, 2010.0)\n",
    "\n",
    "print(\"Истинное значение:\", real_result)\n",
    "print(\"Полученное значение:\", int(interpol_result))"
   ]
  },
  {
   "cell_type": "markdown",
   "metadata": {},
   "source": [
    "б) Построим сплайн-аппроксимацию. Ищем сплайн в виде:\n",
    "$$ S_k = a_k + \\frac{b_k}{1!}(x - x_k) + \\frac{c_k}{2!}(x - x_k)^2 + \\frac{d_k}{3!}(x - x_k)^3 $$"
   ]
  },
  {
   "cell_type": "markdown",
   "metadata": {},
   "source": [
    "В ячейке ниже представлен код для нахождения сплайна."
   ]
  },
  {
   "cell_type": "code",
   "execution_count": 76,
   "metadata": {},
   "outputs": [],
   "source": [
    "def diff_adj(x):\n",
    "    size = len(x) - 1\n",
    "    res = np.zeros(size)\n",
    "    for i in range(size):\n",
    "        res[i] = x[i + 1] - x[i]\n",
    "    return res\n",
    "\n",
    "def target_count(n, h, y):\n",
    "    res_arr = np.zeros(n)\n",
    "    for i in range (1, n-1):\n",
    "        res_arr[i] = 6 * ((y[i + 1] - y[i]) / h[i] - (y[i] - y[i - 1]) / h[i - 1]) / (h[i] + h[i - 1])\n",
    "    return res_arr\n",
    "\n",
    "def tridiag_matr(n, h):\n",
    "    A = np.zeros(n - 1)\n",
    "    C = np.zeros(n - 1)\n",
    "    for i in range (n - 2):\n",
    "        A[i] = h[i] / (h[i] + h[i + 1])\n",
    "        C[i + 1] = h[i] / (h[i] + h[i + 1])\n",
    "    B = np.zeros(n)\n",
    "    for i in range (n):\n",
    "        B[i] = 2\n",
    "    return A, B, C\n",
    "\n",
    "def calc_tridiag(A, B, C, D):\n",
    "    c_p = np.append(C, 0)\n",
    "    d_p = np.zeros(len(B))\n",
    "    result = np.zeros(len(B))\n",
    "    for i in range(0, len(B)):\n",
    "        if i == 0:\n",
    "            c_p[i] = C[i] / B[i]\n",
    "            d_p[i] = D[i] / B[i]\n",
    "        else:\n",
    "            c_p[i] = c_p[i] / (B[i] - c_p[i - 1] * A[i - 1])\n",
    "            d_p[i] = (D[i] - d_p[i - 1] * A[i - 1]) / (B[i] - c_p[i - 1] * A[i - 1])\n",
    "    result[-1] = d_p[-1]\n",
    "    for i in range(len(B) - 2, -1, -1):\n",
    "        result[i] = d_p[i] - c_p[i] * result[i + 1]\n",
    "    return result\n",
    "\n",
    "def spline_get_res(x, y, year):\n",
    "    n = len(x)\n",
    "    h = diff_adj(x)\n",
    "    A, B, C = tridiag_matr(n, h)\n",
    "    D = target_count(n, h, y)\n",
    "    tridiag_solved = calc_tridiag(A, B, C, D)\n",
    "    tmp = np.array([[(tridiag_solved[i + 1] - tridiag_solved[i]) * h[i] * h[i] / 6, tridiag_solved[i] * h[i] * h[i] / 2, (y[i + 1] - y[i] - (tridiag_solved[i + 1]+  2 * tridiag_solved[i]) * h[i] * h[i] / 6), y[i]] for i in range(n - 1)])\n",
    "    ind = min(bisect.bisect(x, year) - 1, n - 2)\n",
    "    z = (year - x[ind]) / h[ind]\n",
    "    C = tmp[ind]\n",
    "    return (((C[0] * z) + C[1]) * z + C[2]) * z + C[3]"
   ]
  },
  {
   "cell_type": "markdown",
   "metadata": {},
   "source": [
    "Для 2010 года:"
   ]
  },
  {
   "cell_type": "code",
   "execution_count": 77,
   "metadata": {},
   "outputs": [
    {
     "name": "stdout",
     "output_type": "stream",
     "text": [
      "Истинное значение: 308745538\n",
      "Полученное значение: 314133939\n"
     ]
    }
   ],
   "source": [
    "spline_result = spline_get_res(year, num_of_people, 2010.0)\n",
    "\n",
    "print(\"Истинное значение:\", real_result)\n",
    "print(\"Полученное значение:\", int(spline_result))"
   ]
  },
  {
   "cell_type": "markdown",
   "metadata": {},
   "source": [
    "Подсчитаем погрешности для методов, предложенных в пунктах \"а\" и \"б\":"
   ]
  },
  {
   "cell_type": "code",
   "execution_count": 78,
   "metadata": {},
   "outputs": [
    {
     "name": "stdout",
     "output_type": "stream",
     "text": [
      "Погрешности в процентах для обоих методов:\n",
      "Интерполянт в форме Ньютона: 168 %\n",
      "Сплайн-аппроксимация: 1 %\n"
     ]
    }
   ],
   "source": [
    "err_1 = int(np.abs((interpol_result / real_result) - 1) * 100)\n",
    "err_2 = int(np.abs((spline_result / real_result) - 1) * 100)\n",
    "\n",
    "print(\"Погрешности в процентах для обоих методов:\")\n",
    "print(\"Интерполянт в форме Ньютона:\", err_1, \"%\")\n",
    "print(\"Сплайн-аппроксимация:\", err_2, \"%\")"
   ]
  },
  {
   "cell_type": "markdown",
   "metadata": {},
   "source": [
    "Тем самым, мы получаем намного более точный результат при использовании сплайн-аппроксимации, чем при использовании интерполянта в форме Ньютона."
   ]
  }
 ],
 "metadata": {
  "kernelspec": {
   "display_name": "Python 3.7.9 64-bit",
   "language": "python",
   "name": "python3"
  },
  "language_info": {
   "codemirror_mode": {
    "name": "ipython",
    "version": 3
   },
   "file_extension": ".py",
   "mimetype": "text/x-python",
   "name": "python",
   "nbconvert_exporter": "python",
   "pygments_lexer": "ipython3",
   "version": "3.7.9"
  },
  "orig_nbformat": 4,
  "vscode": {
   "interpreter": {
    "hash": "8fa13260b2ad5da8a92d4362f230c03eee7b3dfd5b47a73cfd4853277a201fcb"
   }
  }
 },
 "nbformat": 4,
 "nbformat_minor": 2
}
