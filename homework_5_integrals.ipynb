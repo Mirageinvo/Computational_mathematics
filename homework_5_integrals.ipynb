{
 "cells": [
  {
   "attachments": {},
   "cell_type": "markdown",
   "metadata": {},
   "source": [
    "#### Численное интегрирование ####"
   ]
  },
  {
   "attachments": {},
   "cell_type": "markdown",
   "metadata": {},
   "source": [
    "VII.9.5 (в)"
   ]
  },
  {
   "cell_type": "code",
   "execution_count": 160,
   "metadata": {},
   "outputs": [],
   "source": [
    "import numpy as np"
   ]
  },
  {
   "cell_type": "code",
   "execution_count": 161,
   "metadata": {},
   "outputs": [],
   "source": [
    "x = np.array([0.0, 0.15, 0.3, 0.45, 0.6, 0.75, 0.9, 1.05, 1.2])\n",
    "fnc = np.array([1.0, 1.007568, 1.031121, 1.073456, 1.140228, 1.242129, 1.400176, 1.660300, 2.143460])"
   ]
  },
  {
   "cell_type": "code",
   "execution_count": 162,
   "metadata": {},
   "outputs": [],
   "source": [
    "def main_func(x):\n",
    "    if x == 0:\n",
    "        return 1\n",
    "    return np.tan(x) / x\n",
    "\n",
    "def trapez(x, fnc, delta):\n",
    "    ans = 0.0\n",
    "    assert(len(x) == len(fnc) and len(x) >= 2)\n",
    "    i = 0\n",
    "    while i < len(x):\n",
    "        if i == 0 or i == len(x) - 1:\n",
    "            ans += fnc[i]\n",
    "        else:\n",
    "            ans += fnc[i] * 2.0\n",
    "        i += delta\n",
    "    ans *= (x[delta] - x[0]) / 2.0\n",
    "    return ans\n",
    "\n",
    "def simpson(func, a, b, delta):\n",
    "    ans = 0.0\n",
    "    cur = a\n",
    "    while cur + delta < b:\n",
    "        ans += (delta / 6) * (func(cur) + (4 * func((cur * 2 + delta) / 2)) + func(cur + delta))\n",
    "        cur += delta\n",
    "    return ans\n",
    "\n",
    "def get_improved_by_Richardson(x, fnc):\n",
    "    ans_1 = trapez(x, fnc, 1)\n",
    "    ans_2 = trapez(x, fnc, 2)\n",
    "    return (4.0 * ans_1 - ans_2) / 3.0"
   ]
  },
  {
   "attachments": {},
   "cell_type": "markdown",
   "metadata": {},
   "source": [
    "Метод трапеций:"
   ]
  },
  {
   "cell_type": "code",
   "execution_count": 163,
   "metadata": {},
   "outputs": [
    {
     "name": "stdout",
     "output_type": "stream",
     "text": [
      "I = 1.5190062\n"
     ]
    }
   ],
   "source": [
    "print(\"I =\", trapez(x, fnc, 1))"
   ]
  },
  {
   "attachments": {},
   "cell_type": "markdown",
   "metadata": {},
   "source": [
    "Метод Симпсона ($ \\Delta = 0.001 $):"
   ]
  },
  {
   "cell_type": "code",
   "execution_count": 164,
   "metadata": {},
   "outputs": [
    {
     "name": "stdout",
     "output_type": "stream",
     "text": [
      "I = 1.510587759299319\n"
     ]
    }
   ],
   "source": [
    "print(\"I =\", simpson(main_func, 0.0, 1.2, 0.001))"
   ]
  },
  {
   "attachments": {},
   "cell_type": "markdown",
   "metadata": {},
   "source": [
    "Уточнение экстраполяцией Ричардсона:"
   ]
  },
  {
   "cell_type": "code",
   "execution_count": 165,
   "metadata": {},
   "outputs": [
    {
     "name": "stdout",
     "output_type": "stream",
     "text": [
      "I = 1.5110161\n"
     ]
    }
   ],
   "source": [
    "print(\"I =\", get_improved_by_Richardson(x, fnc))"
   ]
  },
  {
   "attachments": {},
   "cell_type": "markdown",
   "metadata": {},
   "source": [
    "Относительная погрешность между методом Симпсона и экстраполяцией Ричардсона:"
   ]
  },
  {
   "cell_type": "code",
   "execution_count": 166,
   "metadata": {},
   "outputs": [
    {
     "name": "stdout",
     "output_type": "stream",
     "text": [
      "Error = 0.02835589644123411 %\n"
     ]
    }
   ],
   "source": [
    "print(\"Error =\", abs((simpson(main_func, 0.0, 1.2, 0.001) - get_improved_by_Richardson(x, fnc)) / simpson(main_func, 0.0, 1.2, 0.001)) * 100, \"%\")"
   ]
  }
 ],
 "metadata": {
  "kernelspec": {
   "display_name": "Python 3",
   "language": "python",
   "name": "python3"
  },
  "language_info": {
   "codemirror_mode": {
    "name": "ipython",
    "version": 3
   },
   "file_extension": ".py",
   "mimetype": "text/x-python",
   "name": "python",
   "nbconvert_exporter": "python",
   "pygments_lexer": "ipython3",
   "version": "3.7.9"
  },
  "orig_nbformat": 4,
  "vscode": {
   "interpreter": {
    "hash": "8fa13260b2ad5da8a92d4362f230c03eee7b3dfd5b47a73cfd4853277a201fcb"
   }
  }
 },
 "nbformat": 4,
 "nbformat_minor": 2
}
