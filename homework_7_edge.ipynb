{
 "cells": [
  {
   "attachments": {},
   "cell_type": "markdown",
   "metadata": {},
   "source": [
    "# Метод прогонки"
   ]
  },
  {
   "attachments": {},
   "cell_type": "markdown",
   "metadata": {},
   "source": [
    "### Задача №9"
   ]
  },
  {
   "attachments": {},
   "cell_type": "markdown",
   "metadata": {},
   "source": [
    "#### Постановка задачи:"
   ]
  },
  {
   "attachments": {},
   "cell_type": "markdown",
   "metadata": {},
   "source": [
    "##### Найти решение краевой задачи для одномерного стационарного уравнения теплопроводности"
   ]
  },
  {
   "attachments": {},
   "cell_type": "markdown",
   "metadata": {},
   "source": [
    "$\\dfrac{d}{dx}(k(x)\\dfrac{du}{dx})-q(x)u = -f(x)$\n",
    "\n",
    "$u(0) = 0; \\,\\,\\, u(1) = 1$\n",
    "\n",
    "\\begin{equation*}\n",
    "    \\begin{cases}\n",
    "      u(x_0-0)=u(x_0+0)\\\\\n",
    "\t    k(x_0-0)u_x(x_0-0)=k(x_0+0)u_x(x_0+0)\n",
    "    \\end{cases}\n",
    "\\end{equation*}\n",
    "\n",
    "$x < x_0 = 1/\\sqrt{3}; \\,\\,\\, k(x) = 1; \\,\\,\\, q(x) = x^2; \\,\\,\\, f(x) = x^2 - 1;$\n",
    "\n",
    "$x > x_0 = 1/\\sqrt{3}; \\,\\,\\, k(x) = e^{-x}; \\,\\,\\, q(x) = x; \\,\\,\\, f(x) = 1;$\n",
    "\n",
    "Модельная задача:\n",
    "\n",
    "$x_0 = 1/\\sqrt{3}; \\,\\,\\, k(x)=k(x_0); \\,\\,\\, q(x)=q(x_0); \\,\\,\\, f(x)=f(x_0)$"
   ]
  },
  {
   "cell_type": "code",
   "execution_count": 40,
   "metadata": {},
   "outputs": [],
   "source": [
    "import numpy as np\n",
    "import matplotlib.pyplot as plt"
   ]
  },
  {
   "attachments": {},
   "cell_type": "markdown",
   "metadata": {},
   "source": [
    "### Объявления переменных и функций"
   ]
  },
  {
   "cell_type": "code",
   "execution_count": 41,
   "metadata": {},
   "outputs": [],
   "source": [
    "delta = 0.0001\n",
    "x = np.arange(0, 1.0 + delta, delta)\n",
    "x_0 = 1 / np.sqrt(3)\n",
    "\n",
    "def k(x):\n",
    "    if(x <= x_0):\n",
    "        return 1\n",
    "    return np.exp(-x)\n",
    "\n",
    "def qq(x):\n",
    "    if(x <= x_0):\n",
    "        return x ** 2\n",
    "    return x\n",
    "\n",
    "def f(x):\n",
    "    if(x <= x_0):\n",
    "        return x ** 2 - 1\n",
    "    return 1\n",
    "\n",
    "def main_func():\n",
    "    num_of_iter = int(1 / delta)\n",
    "    left_num = int(x_0 / delta)\n",
    "    right_num = left_num + 1\n",
    "    a = np.zeros(num_of_iter + 1)\n",
    "    b = np.zeros(num_of_iter + 1)\n",
    "    c = np.zeros(num_of_iter + 1)\n",
    "    d = np.zeros(num_of_iter + 1)\n",
    "    u = np.zeros(num_of_iter + 1)\n",
    "    p = np.zeros(num_of_iter + 1)\n",
    "    q = np.zeros(num_of_iter + 1)\n",
    "    u[0] = 0\n",
    "    u[-1] = 1\n",
    "\n",
    "    for i in range(1, num_of_iter):\n",
    "        if i < left_num or i > right_num:\n",
    "            a[i] = k((i - 1/2) * delta)\n",
    "            b[i] = -(k((i + 1/2) * delta) + k((i - 1/2) * delta) + qq(i * delta) * (delta**2))\n",
    "            c[i] = k((i + 1/2) * delta)\n",
    "            d[i] = -f(i * delta) * (delta**2)\n",
    "\n",
    "    p[1] = -c[1] / b[1]\n",
    "    q[1] = (d[1] - a[1] * u[0]) / b[1]\n",
    "    p[num_of_iter - 1] = -a[num_of_iter - 1] / b[num_of_iter - 1]\n",
    "    q[num_of_iter - 1] = (d[num_of_iter - 1] - a[num_of_iter - 1] * u[num_of_iter]) / b[num_of_iter - 1]\n",
    "\n",
    "    for i in range(2, left_num):\n",
    "        p[i] = -c[i] / (b[i] + a[i] * p[i - 1])\n",
    "        q[i] = (d[i] - a[i] * q[i - 1]) / (b[i] + a[i] * p[i - 1])\n",
    "    for i in range(num_of_iter - 2, right_num, -1):\n",
    "        p[i] = -a[i] / (b[i] + c[i] * p[i + 1])\n",
    "        q[i] = (d[i] - c[i] * q[i + 1]) / (b[i] + c[i] * p[i + 1])\n",
    "\n",
    "    u[left_num] = k(left_num * delta) * q[left_num - 1] + k(right_num * delta) * q[right_num + 1] / (k(left_num * delta) * (1 - p[left_num - 1]) + k(right_num * delta) * (1 - p[right_num + 1]))\n",
    "    u[right_num] = u[left_num]\n",
    "    u[left_num - 1] = p[left_num - 1] * u[left_num] + q[left_num - 1]\n",
    "    u[right_num + 1] = p[right_num + 1] * u[right_num] + q[right_num + 1]\n",
    "\n",
    "    for i in range(left_num - 1, 0, -1):\n",
    "    \tu[i] = p[i] * u[i + 1] + q[i]\n",
    "    for i in range(right_num + 1, num_of_iter):\n",
    "        u[i] = p[i] * u[i - 1] + q[i]\n",
    "    \n",
    "    return u\n"
   ]
  },
  {
   "cell_type": "code",
   "execution_count": 42,
   "metadata": {},
   "outputs": [
    {
     "data": {
      "image/png": "[encoded data removed]",
      "text/plain": [
       "<Figure size 864x504 with 1 Axes>"
      ]
     },
     "metadata": {
      "needs_background": "light"
     },
     "output_type": "display_data"
    }
   ],
   "source": [
    "u = main_func()\n",
    "\n",
    "fig = plt.figure(figsize=[12, 7])\n",
    "plt.title(\"График $u(x)$\")\n",
    "plt.xlabel(\"$x$\")\n",
    "plt.ylabel(\"$u$\")\n",
    "plt.grid()\n",
    "plt.plot(x, u)\n",
    "plt.axvline(x = x_0, color = 'green')\n",
    "plt.show()"
   ]
  }
 ],
 "metadata": {
  "kernelspec": {
   "display_name": "Python 3",
   "language": "python",
   "name": "python3"
  },
  "language_info": {
   "codemirror_mode": {
    "name": "ipython",
    "version": 3
   },
   "file_extension": ".py",
   "mimetype": "text/x-python",
   "name": "python",
   "nbconvert_exporter": "python",
   "pygments_lexer": "ipython3",
   "version": "3.7.9"
  },
  "orig_nbformat": 4
 },
 "nbformat": 4,
 "nbformat_minor": 2
}
